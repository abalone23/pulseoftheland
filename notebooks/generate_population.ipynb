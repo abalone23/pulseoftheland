{
 "cells": [
  {
   "cell_type": "code",
   "execution_count": 1,
   "metadata": {},
   "outputs": [],
   "source": [
    "import numpy as np\n",
    "import pandas as pd\n",
    "import re\n",
    "from datetime import datetime\n",
    "import pickle\n",
    "import datetime as dt"
   ]
  },
  {
   "cell_type": "code",
   "execution_count": 2,
   "metadata": {},
   "outputs": [],
   "source": [
    "# https://www.census.gov/data/tables/time-series/demo/popest/2010s-total-cities-and-towns.html (df_cities_pop)\n",
    "# https://www.census.gov/geographies/reference-files/2016/demo/popest/2016-fips.html (df_geo)\n",
    "\n",
    "df_cities_pop = pd.read_csv('../data/sources/cities_pop.csv', skiprows=1)\n",
    "\n",
    "df_cities_pop.columns = [col.replace(' ', '_') for col in df_cities_pop.columns]\n",
    "df_cities_pop = df_cities_pop.rename(str.lower, axis='columns')\n",
    "df_cities_pop = df_cities_pop[['target_geo_id2', 'geography.2', 'april_1,_2010_-_census', 'population_estimate_(as_of_july_1)_-_2018']]\n",
    "df_cities_pop = df_cities_pop.drop(['geography.2'], axis=1)\n",
    "df_cities_pop = df_cities_pop.rename({'april_1,_2010_-_census': 'pop_2010', \\\n",
    "                                      'population_estimate_(as_of_july_1)_-_2018': 'pop_2018', \\\n",
    "                                      'target_geo_id2': 'state_city_id'}, axis=1)\n",
    "\n",
    "#Target_Geo_Id2: 2679000 first 2 digits indicate state, last 5 digits indicate city\n",
    "df_cities_pop = df_cities_pop.astype({'state_city_id': str})"
   ]
  },
  {
   "cell_type": "code",
   "execution_count": 3,
   "metadata": {},
   "outputs": [],
   "source": [
    "pickle.dump(df_cities_pop, open('../data/df_cities_pop.pkl', 'wb'))"
   ]
  },
  {
   "cell_type": "code",
   "execution_count": 4,
   "metadata": {},
   "outputs": [],
   "source": [
    "df_states_pop = pd.read_csv('../data/sources/nst-est2018-alldata.csv', usecols=['STATE', 'POPESTIMATE2018'])\n",
    "df_states_pop = df_states_pop.rename({'STATE': 'state_fip', 'POPESTIMATE2018': 'pop_2018'}, axis=1)\n",
    "\n",
    "# Extract only states\n",
    "df_states_pop = df_states_pop[(df_states_pop['state_fip'] >= 1) & (df_states_pop['state_fip'] <= 56)]"
   ]
  },
  {
   "cell_type": "code",
   "execution_count": 5,
   "metadata": {},
   "outputs": [],
   "source": [
    "pickle.dump(df_states_pop, open('../data/df_states_pop.pkl', 'wb'))"
   ]
  }
 ],
 "metadata": {
  "kernelspec": {
   "display_name": "metis",
   "language": "python",
   "name": "metis"
  },
  "language_info": {
   "codemirror_mode": {
    "name": "ipython",
    "version": 3
   },
   "file_extension": ".py",
   "mimetype": "text/x-python",
   "name": "python",
   "nbconvert_exporter": "python",
   "pygments_lexer": "ipython3",
   "version": "3.7.4"
  }
 },
 "nbformat": 4,
 "nbformat_minor": 4
}
