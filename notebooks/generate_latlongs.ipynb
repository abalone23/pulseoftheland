{
 "cells": [
  {
   "cell_type": "code",
   "execution_count": 1,
   "metadata": {},
   "outputs": [],
   "source": [
    "import numpy as np\n",
    "import pandas as pd\n",
    "import googlemaps\n",
    "from datetime import datetime\n",
    "import os\n",
    "import pickle\n",
    "import re"
   ]
  },
  {
   "cell_type": "code",
   "execution_count": 2,
   "metadata": {},
   "outputs": [],
   "source": [
    "GOOGLE_API_KEY = os.getenv('GOOGLE_API_KEY')\n",
    "gmaps = googlemaps.Client(key=GOOGLE_API_KEY)"
   ]
  },
  {
   "cell_type": "code",
   "execution_count": 3,
   "metadata": {},
   "outputs": [],
   "source": [
    "with open('../data/df_city_subs.pkl', 'rb') as fp:\n",
    "    df_city_subs = pickle.load(fp)\n",
    "with open('../data/df_state_subs.pkl', 'rb') as fp:\n",
    "    df_state_subs = pickle.load(fp)"
   ]
  },
  {
   "cell_type": "code",
   "execution_count": 4,
   "metadata": {},
   "outputs": [],
   "source": [
    "geocode_result_states = []\n",
    "for state in df_state_subs['state_name']:\n",
    "    geocode_result_states.append(gmaps.geocode(state))"
   ]
  },
  {
   "cell_type": "code",
   "execution_count": 10,
   "metadata": {},
   "outputs": [],
   "source": [
    "pickle.dump(geocode_result_states, open('../data/geocode_result_states.pkl', 'wb'))"
   ]
  },
  {
   "cell_type": "code",
   "execution_count": 6,
   "metadata": {},
   "outputs": [],
   "source": [
    "df_city_states = pd.merge(df_city_subs, df_state_subs, on='state_fip')"
   ]
  },
  {
   "cell_type": "code",
   "execution_count": 7,
   "metadata": {},
   "outputs": [],
   "source": [
    "df_city_states['city_state'] = df_city_states['city_short'] + ', ' + df_city_states['state_name']"
   ]
  },
  {
   "cell_type": "code",
   "execution_count": 8,
   "metadata": {},
   "outputs": [],
   "source": [
    "geocode_result_cities = []\n",
    "for city in df_city_states['city_state']:\n",
    "    geocode_result_cities.append(gmaps.geocode(city))"
   ]
  },
  {
   "cell_type": "code",
   "execution_count": 9,
   "metadata": {},
   "outputs": [],
   "source": [
    "pickle.dump(geocode_result_cities, open('../data/geocode_result_cities.pkl', 'wb'))"
   ]
  },
  {
   "cell_type": "code",
   "execution_count": 11,
   "metadata": {},
   "outputs": [],
   "source": [
    "# Fix city naming and merge to dataframe\n",
    "geo_latlng_list = []\n",
    "for list in geocode_result_cities:\n",
    "    for row in list:\n",
    "        city_name_raw = row['address_components'][0]['long_name']\n",
    "        if city_name_raw == 'Washington':\n",
    "            city_name = 'Washington DC'\n",
    "        elif city_name_raw == 'New York':\n",
    "            city_name = 'New York City'\n",
    "        elif city_name_raw == 'Saint Paul':\n",
    "            city_name = 'St. Paul'\n",
    "        elif city_name_raw == 'Saint Charles':\n",
    "            city_name = 'St. Charles'\n",
    "        else:\n",
    "            city_name = row['address_components'][0]['long_name']\n",
    "                \n",
    "        formatted_address = row['formatted_address']\n",
    "        state_abbr = re.search('.*, ([A-Z]{2}), USA', formatted_address).group(1)\n",
    "        city_lat = row['geometry']['location']['lat']\n",
    "        city_lng = row['geometry']['location']['lng']\n",
    "        geo_latlng_list.append([city_name, state_abbr, city_lat, city_lng])"
   ]
  },
  {
   "cell_type": "code",
   "execution_count": 12,
   "metadata": {},
   "outputs": [],
   "source": [
    "df_geo = pd.DataFrame(geo_latlng_list, columns=['city_name', 'state_abbr', 'city_lat', 'city_lng'])"
   ]
  },
  {
   "cell_type": "code",
   "execution_count": 13,
   "metadata": {
    "scrolled": true
   },
   "outputs": [],
   "source": [
    "df_geo_cities = pd.merge(df_city_states, df_geo, how='left', left_on=['city_short', 'state_abbr'], right_on=['city_name', 'state_abbr'])"
   ]
  },
  {
   "cell_type": "code",
   "execution_count": 15,
   "metadata": {},
   "outputs": [],
   "source": [
    "df_geo_cities = df_geo_cities[['state_city_id', 'city_lat', 'city_lng']]"
   ]
  },
  {
   "cell_type": "code",
   "execution_count": 17,
   "metadata": {},
   "outputs": [],
   "source": [
    "pickle.dump(df_geo_cities, open('../data/df_geo_cities.pkl', 'wb'))"
   ]
  }
 ],
 "metadata": {
  "kernelspec": {
   "display_name": "metis",
   "language": "python",
   "name": "metis"
  },
  "language_info": {
   "codemirror_mode": {
    "name": "ipython",
    "version": 3
   },
   "file_extension": ".py",
   "mimetype": "text/x-python",
   "name": "python",
   "nbconvert_exporter": "python",
   "pygments_lexer": "ipython3",
   "version": "3.7.4"
  }
 },
 "nbformat": 4,
 "nbformat_minor": 4
}
