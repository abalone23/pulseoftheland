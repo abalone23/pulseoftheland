{
 "cells": [
  {
   "cell_type": "code",
   "execution_count": 1,
   "metadata": {},
   "outputs": [],
   "source": [
    "import os\n",
    "import psycopg2 as pg\n",
    "from psycopg2.extensions import ISOLATION_LEVEL_AUTOCOMMIT\n",
    "import pandas.io.sql as pd_sql\n",
    "import pickle\n",
    "import re"
   ]
  },
  {
   "cell_type": "code",
   "execution_count": 2,
   "metadata": {},
   "outputs": [],
   "source": [
    "# start postgresql:\n",
    "# sudo service postgresql start\n",
    "\n",
    "# CREATE DATABASE if necessary:\n",
    "# CREATE DATABASE rpdb;\n",
    "\n",
    "# Run create_pg_tables.sql to create the state/city tables"
   ]
  },
  {
   "cell_type": "code",
   "execution_count": 3,
   "metadata": {},
   "outputs": [],
   "source": [
    "POSTGRES_USER = os.getenv('POSTGRES_USER')\n",
    "POSTGRES_HOST = os.getenv('POSTGRES_HOST')\n",
    "POSTGRES_PORT = os.getenv('POSTGRES_PORT')\n",
    "POSTGRES_RP_DB = os.getenv('POSTGRES_RP_DB')\n",
    "\n",
    "connection_args = {\n",
    "    'host': POSTGRES_HOST,\n",
    "    'user': POSTGRES_USER,\n",
    "    'dbname': POSTGRES_RP_DB,\n",
    "    'port': POSTGRES_PORT\n",
    "}\n",
    "\n",
    "connection = pg.connect(**connection_args)"
   ]
  },
  {
   "cell_type": "code",
   "execution_count": 4,
   "metadata": {},
   "outputs": [],
   "source": [
    "with open('../data/df_states.pkl', \"rb\") as fp:\n",
    "    df_states = pickle.load(fp)"
   ]
  },
  {
   "cell_type": "code",
   "execution_count": 5,
   "metadata": {},
   "outputs": [],
   "source": [
    "states_list = df_states.values.tolist()"
   ]
  },
  {
   "cell_type": "code",
   "execution_count": 6,
   "metadata": {},
   "outputs": [],
   "source": [
    "cursor = connection.cursor()\n",
    "\n",
    "# query_cities_a = \"TRUNCATE cities_archive RESTART IDENTITY\" # CASCADE needed due to foreign key\n",
    "query_cities = \"TRUNCATE cities RESTART IDENTITY CASCADE\" # CASCADE needed due to foreign key\n",
    "# query_states_a = \"TRUNCATE states_archive RESTART IDENTITY\" # CASCADE needed due to foreign key\n",
    "query_states = \"TRUNCATE states RESTART IDENTITY CASCADE\"\n",
    "# cursor.execute(query_cities_a)\n",
    "cursor.execute(query_cities)\n",
    "cursor.execute(query_states)\n",
    "# cursor.execute(query_states_a)\n",
    "\n",
    "for state_name, state_abbr, state_fip, state_sub, sub_cnt, pop_2018, median_hh_income, state_lat, state_lng in states_list:\n",
    "    query =  \"\"\"INSERT INTO states (state_name, state_abbr, state_fip, state_sub, sub_cnt, pop_2018,\n",
    "                                    median_hh_income, state_lat, state_lng, sentiment_compound)\n",
    "                VALUES (%s, %s, %s, %s, %s, %s, %s, %s, %s, 0)\"\"\"\n",
    "    data = (state_name, state_abbr, state_fip, state_sub, sub_cnt, pop_2018, \\\n",
    "            median_hh_income, state_lat, state_lng)\n",
    "\n",
    "    cursor.execute(query, data)\n",
    "    \n",
    "connection.commit()\n",
    "cursor.close()"
   ]
  },
  {
   "cell_type": "code",
   "execution_count": 7,
   "metadata": {},
   "outputs": [],
   "source": [
    "with open('../data/df_cities.pkl', \"rb\") as fp:\n",
    "    df_cities = pickle.load(fp)"
   ]
  },
  {
   "cell_type": "code",
   "execution_count": 8,
   "metadata": {},
   "outputs": [],
   "source": [
    "cities_list = df_cities.values.tolist()"
   ]
  },
  {
   "cell_type": "code",
   "execution_count": 9,
   "metadata": {},
   "outputs": [],
   "source": [
    "cursor = connection.cursor()\n",
    "\n",
    "for state_city_id, city_short, city_state, city_sub, sub_cnt, state_fip, city_fip, pop_2010, \\\n",
    "    pop_2018, geographic_area, city, median_hh_income, city_lat, city_lng in cities_list:\n",
    "    \n",
    "    query = f'SELECT state_id FROM states WHERE state_fip = {state_fip}'\n",
    "    cursor.execute(query)\n",
    "    state_info = cursor.fetchall()\n",
    "    state_id = state_info[0][0]\n",
    "    city_url = re.sub('[\\s\\'\"]', '_', city_short).lower()\n",
    "    \n",
    "    query =  \"\"\"INSERT INTO cities (city_name, city_url, city_sub, sub_cnt, pop_2018, state_id, \n",
    "                                    median_hh_income, city_lat, city_lng, sentiment_compound)\n",
    "                VALUES (%s, %s, %s, %s, %s, %s, %s, %s, %s, 0)\"\"\"\n",
    "    data = (city_short, city_url, city_sub, sub_cnt, pop_2018, state_id, median_hh_income, city_lat, city_lng)\n",
    "    cursor.execute(query, data)\n",
    "    \n",
    "connection.commit()\n",
    "cursor.close()"
   ]
  },
  {
   "cell_type": "code",
   "execution_count": null,
   "metadata": {},
   "outputs": [],
   "source": []
  },
  {
   "cell_type": "code",
   "execution_count": null,
   "metadata": {},
   "outputs": [],
   "source": []
  }
 ],
 "metadata": {
  "kernelspec": {
   "display_name": "metis",
   "language": "python",
   "name": "metis"
  },
  "language_info": {
   "codemirror_mode": {
    "name": "ipython",
    "version": 3
   },
   "file_extension": ".py",
   "mimetype": "text/x-python",
   "name": "python",
   "nbconvert_exporter": "python",
   "pygments_lexer": "ipython3",
   "version": "3.7.4"
  }
 },
 "nbformat": 4,
 "nbformat_minor": 4
}
