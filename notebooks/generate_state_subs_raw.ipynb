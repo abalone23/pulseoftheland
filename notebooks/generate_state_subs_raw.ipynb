{
 "cells": [
  {
   "cell_type": "code",
   "execution_count": 1,
   "metadata": {},
   "outputs": [],
   "source": [
    "import os\n",
    "import time\n",
    "import re\n",
    "import praw\n",
    "import json\n",
    "import numpy as np\n",
    "import pandas as pd\n",
    "import pickle"
   ]
  },
  {
   "cell_type": "code",
   "execution_count": 2,
   "metadata": {},
   "outputs": [],
   "source": [
    "# Initialize the Python Reddit API wrapper (PRAW)\n",
    "PRAW_CLIENT_ID = os.getenv('PRAW_CLIENT_ID')\n",
    "PRAW_CLIENT_SECRET = os.getenv('PRAW_CLIENT_SECRET')\n",
    "PRAW_USER_AGENT = os.getenv('PRAW_USER_AGENT')\n",
    "\n",
    "reddit = praw.Reddit(client_id=PRAW_CLIENT_ID,\n",
    "                     client_secret=PRAW_CLIENT_SECRET,\n",
    "                     user_agent=PRAW_USER_AGENT)"
   ]
  },
  {
   "cell_type": "code",
   "execution_count": 3,
   "metadata": {},
   "outputs": [],
   "source": [
    "states_list = [\n",
    "['Alabama', 'AL', 1], ['Alaska', 'AK', 2], ['Arizona', 'AZ', 4], ['Arkansas', 'AR', 5],\n",
    "['California', 'CA', 6], ['Colorado', 'CO', 8], ['Connecticut', 'CT', 9], ['Delaware', 'DE', 10],\n",
    "['Washington DC', 'DC', 11], ['Florida', 'FL', 12], ['Georgia', 'GA', 13],\n",
    "['Hawaii', 'HI', 15], ['Idaho', 'ID', 16], ['Illinois', 'IL', 17], ['Indiana', 'IN', 18],\n",
    "['Iowa', 'IA', 19], ['Kansas', 'KS', 20], ['Kentucky', 'KY', 21], ['Louisiana', 'LA', 22],\n",
    "['Maine', 'ME', 23], ['Maryland', 'MD', 24], ['Massachusetts', 'MA', 25], ['Michigan', 'MI', 26],\n",
    "['Minnesota', 'MN', 27], ['Mississippi', 'MS', 28],\n",
    "['Missouri', 'MO', 29], ['Montana', 'MT', 30], ['Nebraska', 'NE', 31], ['Nevada', 'NV', 32],\n",
    "['New Hampshire', 'NH', 33], ['New Jersey', 'NJ', 34], ['New Mexico', 'NM', 35], \n",
    "['New York', 'NY', 36], ['North Carolina', 'NC', 37],\n",
    "['North Dakota', 'ND', 38], ['Ohio', 'OH', 39], ['Oklahoma', 'OK', 40], ['Oregon', 'OR', 41],\n",
    "['Pennsylvania', 'PA', 42], ['Rhode Island', 'RI', 44],\n",
    "['South Carolina', 'SC', 45], ['South Dakota', 'SD', 46], ['Tennessee', 'TN', 47], ['Texas', 'TX', 48],\n",
    "['Utah', 'UT', 49], ['Vermont', 'VT', 50], ['Virginia', 'VA', 51], ['Washington', 'WA', 53],\n",
    "['West Virginia', 'WV', 54], ['Wisconsin', 'WI', 55], ['Wyoming', 'WY', 56]\n",
    "]"
   ]
  },
  {
   "cell_type": "code",
   "execution_count": 4,
   "metadata": {},
   "outputs": [],
   "source": [
    "# https://www.reddit.com/dev/api/#POST_api_search_subreddits\n",
    "sub_state_dict = {}\n",
    "for row in states_list:\n",
    "    state = row[0]\n",
    "    state_abbr = row[1]\n",
    "    state_fip = row[2]\n",
    "\n",
    "    sub = reddit.post('api/search_subreddits', data={'query': state})\n",
    "    if len(sub['subreddits']) > 0:\n",
    "        sub_state_dict[state_fip] = [\n",
    "                                        state,\n",
    "                                        state_abbr,\n",
    "                                        state_fip,\n",
    "                                        sub['subreddits'][0]['name'].strip(),\n",
    "                                        sub['subreddits'][0]['subscriber_count']\n",
    "                                    ]\n",
    "    else:\n",
    "        print(f'Subreddit not found for: {state}')"
   ]
  },
  {
   "cell_type": "code",
   "execution_count": 5,
   "metadata": {},
   "outputs": [],
   "source": [
    "df_state_subs = pd.DataFrame.from_dict(sub_state_dict, orient='index').reset_index(drop=True)\n",
    "df_state_subs = df_state_subs.rename({0: 'state_name', 1: 'state_abbr', 2: 'state_fip', 3: 'state_sub', 4: 'sub_cnt'}, axis=1)"
   ]
  },
  {
   "cell_type": "markdown",
   "metadata": {},
   "source": [
    "Note that the retrieved sub-reddits may not be valid so manually check later"
   ]
  },
  {
   "cell_type": "code",
   "execution_count": 8,
   "metadata": {},
   "outputs": [],
   "source": [
    "pickle.dump(df_state_subs, open('../data/df_state_subs_raw.pkl', 'wb'))"
   ]
  }
 ],
 "metadata": {
  "kernelspec": {
   "display_name": "metis",
   "language": "python",
   "name": "metis"
  },
  "language_info": {
   "codemirror_mode": {
    "name": "ipython",
    "version": 3
   },
   "file_extension": ".py",
   "mimetype": "text/x-python",
   "name": "python",
   "nbconvert_exporter": "python",
   "pygments_lexer": "ipython3",
   "version": "3.7.4"
  }
 },
 "nbformat": 4,
 "nbformat_minor": 4
}
