{
 "cells": [
  {
   "cell_type": "code",
   "execution_count": null,
   "metadata": {},
   "outputs": [],
   "source": []
  },
  {
   "cell_type": "code",
   "execution_count": null,
   "metadata": {},
   "outputs": [],
   "source": [
    "\\copy states to 'data/states.csv' delimiter ',' csv;\n",
    "\\copy cities to 'data/cities.csv' delimiter ',' csv;\n",
    "\\copy keywords to 'data/keywords.csv' delimiter ',' csv;\n",
    "\\copy models to 'data/models.csv' delimiter ',' csv;\n",
    "\\copy topics_keywords to 'data/topics_keywords.csv' delimiter ',' csv;\n",
    "\\copy topics_geo to 'data/topics_geo.csv' delimiter ',' csv;\n",
    "\\copy topics to 'data/topics.csv' delimiter ',' csv;\n",
    "\\copy topics_archive to 'data/topics_archive.csv' delimiter ',' csv;\n",
    "\\copy states_archive to 'data/states_archive.csv' delimiter ',' csv;\n",
    "\\copy cities_archive to 'data/cities_archive.csv' delimiter ',' csv;"
   ]
  }
 ],
 "metadata": {
  "kernelspec": {
   "display_name": "metis",
   "language": "python",
   "name": "metis"
  },
  "language_info": {
   "codemirror_mode": {
    "name": "ipython",
    "version": 3
   },
   "file_extension": ".py",
   "mimetype": "text/x-python",
   "name": "python",
   "nbconvert_exporter": "python",
   "pygments_lexer": "ipython3",
   "version": "3.7.4"
  }
 },
 "nbformat": 4,
 "nbformat_minor": 2
}
