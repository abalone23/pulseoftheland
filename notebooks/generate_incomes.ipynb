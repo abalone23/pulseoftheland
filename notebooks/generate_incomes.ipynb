{
 "cells": [
  {
   "cell_type": "code",
   "execution_count": 1,
   "metadata": {},
   "outputs": [],
   "source": [
    "import numpy as np\n",
    "import pandas as pd\n",
    "import pickle"
   ]
  },
  {
   "cell_type": "code",
   "execution_count": 2,
   "metadata": {},
   "outputs": [],
   "source": [
    "# MEDIAN HOUSEHOLD INCOME (IN 2017 INFLATION-ADJUSTED DOLLARS) - United States \n",
    "# https://factfinder.census.gov/faces/nav/jsf/pages/download_center.xhtml\n",
    "# \"I know the dataset or table(s) that I want to download.\": \"American Community Survey\": \"2017 ACS 5 Year Estimates\":\n",
    "# \"State - 040\": \"All states within United States & Puerto Rico\": Refine by \"income\": GCT1901\n",
    "\n",
    "# https://www.economy.com/support/blog/buffet.aspx?did=932EBFA8-D905-4945-A5D5-D02D98113FA4\n",
    "# Median family income is typically higher than median household income because of the composition of households. \n",
    "# Family households tend to have more people, and more of those members are in their prime earning years; \n",
    "# as contrasted with members who have lesser incomes because they are very young or elderly."
   ]
  },
  {
   "cell_type": "code",
   "execution_count": 3,
   "metadata": {},
   "outputs": [],
   "source": [
    "df_income = pd.read_csv('../data/sources/ACS_17_5YR_GCT1901.US13PR_with_ann.csv', \n",
    "                         usecols=['Target Geo Id2', 'Geographic Area', 'Geographic Area.1', 'Dollar'])\n",
    "df_income = df_income.rename(str.lower, axis='columns')\n",
    "df_income.columns = df_income.columns.str.replace(' ','_')"
   ]
  },
  {
   "cell_type": "code",
   "execution_count": 4,
   "metadata": {},
   "outputs": [],
   "source": [
    "# state_fip ranges from 1 (ALabama) - 56 (Wyoming)\n",
    "df_states_income = df_income[df_income['target_geo_id2'] <= 56]\n",
    "\n",
    "df_states_income = df_states_income.drop(['geographic_area', 'geographic_area.1'], axis=1)\n",
    "df_states_income = df_states_income.rename({'dollar': 'median_hh_income', 'target_geo_id2': 'state_fip'}, axis=1)\n",
    "df_states_income = df_states_income.astype({'median_hh_income': int})"
   ]
  },
  {
   "cell_type": "code",
   "execution_count": 5,
   "metadata": {},
   "outputs": [],
   "source": [
    "#drop states from city income:\n",
    "df_cities_income = df_income.rename({'target_geo_id2': 'state_city_id', 'dollar': 'median_hh_income'}, axis=1)\n",
    "df_cities_income = df_cities_income[df_cities_income['state_city_id'] > 56]\n",
    "df_cities_income = df_cities_income.astype({'state_city_id': str})"
   ]
  },
  {
   "cell_type": "code",
   "execution_count": 6,
   "metadata": {},
   "outputs": [],
   "source": [
    "pickle.dump(df_states_income, open('../data/df_states_income.pkl', 'wb'))\n",
    "pickle.dump(df_cities_income, open('../data/df_cities_income.pkl', 'wb'))"
   ]
  }
 ],
 "metadata": {
  "kernelspec": {
   "display_name": "metis",
   "language": "python",
   "name": "metis"
  },
  "language_info": {
   "codemirror_mode": {
    "name": "ipython",
    "version": 3
   },
   "file_extension": ".py",
   "mimetype": "text/x-python",
   "name": "python",
   "nbconvert_exporter": "python",
   "pygments_lexer": "ipython3",
   "version": "3.7.4"
  }
 },
 "nbformat": 4,
 "nbformat_minor": 4
}
