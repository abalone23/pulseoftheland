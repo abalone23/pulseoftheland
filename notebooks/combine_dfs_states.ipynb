{
 "cells": [
  {
   "cell_type": "code",
   "execution_count": 1,
   "metadata": {},
   "outputs": [],
   "source": [
    "import numpy as np\n",
    "import pandas as pd\n",
    "import re\n",
    "from datetime import datetime\n",
    "import pickle\n",
    "import datetime as dt"
   ]
  },
  {
   "cell_type": "code",
   "execution_count": 2,
   "metadata": {},
   "outputs": [],
   "source": [
    "with open('data/df_state_subs.pkl', 'rb') as fp:\n",
    "    df_state_subs = pickle.load(fp)\n",
    "\n",
    "with open('data/df_states_pop.pkl', 'rb') as fp:\n",
    "    df_states_pop = pickle.load(fp)    \n",
    "\n",
    "with open('data/df_states_income.pkl', 'rb') as fp:\n",
    "    df_states_income = pickle.load(fp)\n",
    "\n",
    "with open('data/geocode_result_states.pkl', \"rb\") as fp:\n",
    "    geocode_result_states = pickle.load(fp)"
   ]
  },
  {
   "cell_type": "code",
   "execution_count": 3,
   "metadata": {},
   "outputs": [],
   "source": [
    "df_states = pd.merge(df_state_subs, df_states_pop, on='state_fip')"
   ]
  },
  {
   "cell_type": "code",
   "execution_count": 4,
   "metadata": {},
   "outputs": [],
   "source": [
    "df_states = pd.merge(df_states, df_states_income, on='state_fip')"
   ]
  },
  {
   "cell_type": "code",
   "execution_count": 5,
   "metadata": {},
   "outputs": [],
   "source": [
    "state_lat_list = []\n",
    "state_lng_list = []\n",
    "\n",
    "for list in geocode_result_states:\n",
    "    for row in list:\n",
    "        state_name = row['address_components'][0]['long_name']\n",
    "        state_abbr = row['address_components'][0]['short_name']\n",
    "        state_lat_list.append(row['geometry']['location']['lat'])\n",
    "        state_lng_list.append(row['geometry']['location']['lng'])\n",
    "\n",
    "# df_states = df_state_subs.copy()\n",
    "df_states['state_lat'] = state_lat_list\n",
    "df_states['state_lng'] = state_lng_list"
   ]
  },
  {
   "cell_type": "code",
   "execution_count": 6,
   "metadata": {},
   "outputs": [],
   "source": [
    "pickle.dump(df_states, open('data/df_states.pkl', 'wb'))"
   ]
  },
  {
   "cell_type": "code",
   "execution_count": null,
   "metadata": {},
   "outputs": [],
   "source": []
  }
 ],
 "metadata": {
  "kernelspec": {
   "display_name": "metis",
   "language": "python",
   "name": "metis"
  },
  "language_info": {
   "codemirror_mode": {
    "name": "ipython",
    "version": 3
   },
   "file_extension": ".py",
   "mimetype": "text/x-python",
   "name": "python",
   "nbconvert_exporter": "python",
   "pygments_lexer": "ipython3",
   "version": "3.7.4"
  }
 },
 "nbformat": 4,
 "nbformat_minor": 2
}
